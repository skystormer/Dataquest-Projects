{
 "cells": [
  {
   "cell_type": "markdown",
   "metadata": {},
   "source": [
    "# Hacker News Data Analysis\n",
    "The purpose of this project will be to analyze the posts (user-submitted stories) made on Hacker News, a news website for Y Combinator, from the data set provided. The posts that we are the most interested in are the ones whose titles begin with either \"Ask HN\" or \"Show HN\". The Ask HN posts are specific questions posted by users to the Hacker News community, whereas Show HN posts are projects, products, and other interesting things. This project will attempt to answer questions such as, \"Do Ask HN or Show HN receive more comments on average?\" and \"Do posts posts created at a certain time receive more comments on average?\""
   ]
  },
  {
   "cell_type": "code",
   "execution_count": 2,
   "metadata": {
    "collapsed": false
   },
   "outputs": [
    {
     "name": "stdout",
     "output_type": "stream",
     "text": [
      "[['id', 'title', 'url', 'num_points', 'num_comments', 'author', 'created_at'], ['12224879', 'Interactive Dynamic Video', 'http://www.interactivedynamicvideo.com/', '386', '52', 'ne0phyte', '8/4/2016 11:52'], ['10975351', 'How to Use Open Source and Shut the Fuck Up at the Same Time', 'http://hueniverse.com/2016/01/26/how-to-use-open-source-and-shut-the-fuck-up-at-the-same-time/', '39', '10', 'josep2', '1/26/2016 19:30'], ['11964716', \"Florida DJs May Face Felony for April Fools' Water Joke\", 'http://www.thewire.com/entertainment/2013/04/florida-djs-april-fools-water-joke/63798/', '2', '1', 'vezycash', '6/23/2016 22:20'], ['11919867', 'Technology ventures: From Idea to Enterprise', 'https://www.amazon.com/Technology-Ventures-Enterprise-Thomas-Byers/dp/0073523429', '3', '1', 'hswarna', '6/17/2016 0:01']]\n"
     ]
    }
   ],
   "source": [
    "# Import reader function, open data file, read file, and format as\n",
    "# list of lists. Data set is assigned to variable 'hn'.\n",
    "\n",
    "from csv import reader\n",
    "opened_file = open('hacker_news.csv')\n",
    "read_file = reader(opened_file)\n",
    "hn = list(read_file)\n",
    "print(hn[:5])"
   ]
  },
  {
   "cell_type": "code",
   "execution_count": 3,
   "metadata": {
    "collapsed": false
   },
   "outputs": [
    {
     "name": "stdout",
     "output_type": "stream",
     "text": [
      "[['id', 'title', 'url', 'num_points', 'num_comments', 'author', 'created_at']]\n",
      "[['12224879', 'Interactive Dynamic Video', 'http://www.interactivedynamicvideo.com/', '386', '52', 'ne0phyte', '8/4/2016 11:52'], ['10975351', 'How to Use Open Source and Shut the Fuck Up at the Same Time', 'http://hueniverse.com/2016/01/26/how-to-use-open-source-and-shut-the-fuck-up-at-the-same-time/', '39', '10', 'josep2', '1/26/2016 19:30'], ['11964716', \"Florida DJs May Face Felony for April Fools' Water Joke\", 'http://www.thewire.com/entertainment/2013/04/florida-djs-april-fools-water-joke/63798/', '2', '1', 'vezycash', '6/23/2016 22:20'], ['11919867', 'Technology ventures: From Idea to Enterprise', 'https://www.amazon.com/Technology-Ventures-Enterprise-Thomas-Byers/dp/0073523429', '3', '1', 'hswarna', '6/17/2016 0:01'], ['10301696', 'Note by Note: The Making of Steinway L1037 (2007)', 'http://www.nytimes.com/2007/11/07/movies/07stein.html?_r=0', '8', '2', 'walterbell', '9/30/2015 4:12']]\n"
     ]
    }
   ],
   "source": [
    "# Separating the header from the rest of the data.\n",
    "\n",
    "headers = hn[:1]\n",
    "hn = hn[1:]\n",
    "print(headers)\n",
    "print(hn[:5])"
   ]
  },
  {
   "cell_type": "code",
   "execution_count": 4,
   "metadata": {
    "collapsed": false
   },
   "outputs": [
    {
     "name": "stdout",
     "output_type": "stream",
     "text": [
      "1744\n",
      "1162\n",
      "17194\n"
     ]
    }
   ],
   "source": [
    "# Filtering the data for post titles only beginning with Ask HN or\n",
    "# Show HN\n",
    "\n",
    "ask_posts = []\n",
    "show_posts = []\n",
    "other_posts = []\n",
    "\n",
    "for row in hn:\n",
    "    title = row[1]\n",
    "    lowered_title = title.lower()\n",
    "    if lowered_title.startswith('ask hn'):\n",
    "        ask_posts.append(row)\n",
    "    elif lowered_title.startswith('show hn'):\n",
    "        show_posts.append(row)\n",
    "    else:\n",
    "        other_posts.append(row)\n",
    "\n",
    "print(len(ask_posts))\n",
    "print(len(show_posts))\n",
    "print(len(other_posts))"
   ]
  },
  {
   "cell_type": "code",
   "execution_count": 5,
   "metadata": {
    "collapsed": false
   },
   "outputs": [
    {
     "name": "stdout",
     "output_type": "stream",
     "text": [
      "14.038417431192661\n",
      "10.31669535283993\n"
     ]
    }
   ],
   "source": [
    "# Determining if ask posts or show posts receive more comments\n",
    "# on average.\n",
    "\n",
    "# Calculating average no. of ask comments\n",
    "total_ask_comments = 0\n",
    "for row in ask_posts:\n",
    "    num_comments = row[4]\n",
    "    total_ask_comments += int(num_comments)\n",
    "avg_ask_comments = total_ask_comments / len(ask_posts)\n",
    "print(avg_ask_comments)\n",
    "\n",
    "# Calculating average no. of show comments\n",
    "total_show_comments = 0\n",
    "for row in show_posts:\n",
    "    num_comments = row[4]\n",
    "    total_show_comments += int(num_comments)\n",
    "avg_show_comments = total_show_comments / len(show_posts)\n",
    "print(avg_show_comments)"
   ]
  },
  {
   "cell_type": "markdown",
   "metadata": {
    "collapsed": true
   },
   "source": [
    "Based on the calculations made in the cell above, it seems that ask posts received more comments on average than show posts. Ask posts received about 14 comments on average from this data sample, compared to only about 10 comments for the show posts."
   ]
  },
  {
   "cell_type": "code",
   "execution_count": 6,
   "metadata": {
    "collapsed": false,
    "scrolled": false
   },
   "outputs": [
    {
     "name": "stdout",
     "output_type": "stream",
     "text": [
      "{'09': 45, '13': 85, '22': 71, '19': 110, '21': 109, '07': 34, '06': 44, '01': 60, '12': 73, '20': 80, '08': 48, '00': 55, '23': 68, '03': 54, '11': 58, '17': 100, '15': 116, '14': 107, '02': 58, '05': 46, '16': 108, '18': 109, '10': 59, '04': 47}\n",
      "\n",
      "\n",
      "{'09': 251, '13': 1253, '22': 479, '19': 1188, '21': 1745, '07': 267, '06': 397, '01': 683, '12': 687, '20': 1722, '08': 492, '00': 447, '23': 543, '03': 421, '11': 641, '17': 1146, '15': 4477, '14': 1416, '02': 1381, '05': 464, '16': 1814, '18': 1439, '10': 793, '04': 337}\n"
     ]
    }
   ],
   "source": [
    "# Do ask posts created at a certain time attract more comments?\n",
    "\n",
    "# To answer this question, the first step is to calculate the\n",
    "# amount of ask posts and comments by hour created.\n",
    "\n",
    "import datetime as dt\n",
    "result_list = [] # This list will house all the times from 7th\n",
    "                # column of ask_posts\n",
    "for row in ask_posts:\n",
    "    created_at = row[6]\n",
    "    num_comments = int(row[4])\n",
    "    result_list.append([created_at, num_comments])\n",
    "\n",
    "# Creating dictionaries to count number of posts and their comments\n",
    "counts_by_hour = {}\n",
    "comments_by_hour = {}\n",
    "for row in result_list:\n",
    "    date_time = row[0]\n",
    "    date_object = dt.datetime.strptime(date_time, \"%m/%d/%Y %H:%M\")\n",
    "    hour = dt.datetime.strftime(date_object, \"%H\")\n",
    "    if hour not in counts_by_hour:\n",
    "        counts_by_hour[hour] = 1\n",
    "        comments_by_hour[hour] = row[1]\n",
    "    else:\n",
    "        counts_by_hour[hour] += 1\n",
    "        comments_by_hour[hour] += row[1]\n",
    "print(counts_by_hour)\n",
    "print(\"\\n\")\n",
    "print(comments_by_hour)"
   ]
  },
  {
   "cell_type": "code",
   "execution_count": 7,
   "metadata": {
    "collapsed": false
   },
   "outputs": [
    {
     "name": "stdout",
     "output_type": "stream",
     "text": [
      "[['09', 5.5777777777777775], ['13', 14.741176470588234], ['22', 6.746478873239437], ['19', 10.8], ['21', 16.009174311926607], ['07', 7.852941176470588], ['06', 9.022727272727273], ['01', 11.383333333333333], ['12', 9.41095890410959], ['20', 21.525], ['08', 10.25], ['00', 8.127272727272727], ['23', 7.985294117647059], ['03', 7.796296296296297], ['11', 11.051724137931034], ['17', 11.46], ['15', 38.5948275862069], ['14', 13.233644859813085], ['02', 23.810344827586206], ['05', 10.08695652173913], ['16', 16.796296296296298], ['18', 13.20183486238532], ['10', 13.440677966101696], ['04', 7.170212765957447]]\n"
     ]
    }
   ],
   "source": [
    "# Using the values from the dictionaries above to calculate the\n",
    "# average number of comments for posts created during each hour\n",
    "\n",
    "avg_by_hour = []\n",
    "for hour in comments_by_hour:\n",
    "    avg_by_hour.append([hour, comments_by_hour[hour]/counts_by_hour[hour]])\n",
    "print(avg_by_hour)"
   ]
  },
  {
   "cell_type": "code",
   "execution_count": 25,
   "metadata": {
    "collapsed": false
   },
   "outputs": [
    {
     "name": "stdout",
     "output_type": "stream",
     "text": [
      "[[5.5777777777777775, '09'], [14.741176470588234, '13'], [6.746478873239437, '22'], [10.8, '19'], [16.009174311926607, '21'], [7.852941176470588, '07'], [9.022727272727273, '06'], [11.383333333333333, '01'], [9.41095890410959, '12'], [21.525, '20'], [10.25, '08'], [8.127272727272727, '00'], [7.985294117647059, '23'], [7.796296296296297, '03'], [11.051724137931034, '11'], [11.46, '17'], [38.5948275862069, '15'], [13.233644859813085, '14'], [23.810344827586206, '02'], [10.08695652173913, '05'], [16.796296296296298, '16'], [13.20183486238532, '18'], [13.440677966101696, '10'], [7.170212765957447, '04']]\n",
      "\n",
      "\n",
      "Top 5 Hours for Ask Posts Comments\n",
      "15:00: 38.59 average comments per post\n",
      "02:00: 23.81 average comments per post\n",
      "20:00: 21.52 average comments per post\n",
      "16:00: 16.80 average comments per post\n",
      "21:00: 16.01 average comments per post\n"
     ]
    }
   ],
   "source": [
    "# Making the list above more readable\n",
    "\n",
    "swap_avg_by_hour = [] # list to swap columns\n",
    "for row in avg_by_hour:\n",
    "    swap_avg_by_hour.append([row[1], row[0]])\n",
    "print(swap_avg_by_hour)\n",
    "sorted_swap = sorted(swap_avg_by_hour, reverse = True)\n",
    "print(\"\\n\")\n",
    "\n",
    "# Formatting the rows using the string and datetime format methods\n",
    "print(\"Top 5 Hours for Ask Posts Comments\")\n",
    "for row in sorted_swap[:5]:\n",
    "    hour = row[1]\n",
    "    dt_object = dt.datetime.strptime(hour, \"%H\")\n",
    "    time = dt_object.strftime(\"%H:%M\")\n",
    "    average = row[0]\n",
    "    string = \"{ti}: {avg:.2f} average comments per post\"\n",
    "    print(string.format(ti = time, avg = average))"
   ]
  },
  {
   "cell_type": "markdown",
   "metadata": {
    "collapsed": true
   },
   "source": [
    "According to the analysis above, 3pm has the highest average number of comments per post, followed by 2am at a distant 2nd. Users should generally avoid the morning, since not many comments are made during those times."
   ]
  }
 ],
 "metadata": {
  "kernelspec": {
   "display_name": "Python 3",
   "language": "python",
   "name": "python3"
  },
  "language_info": {
   "codemirror_mode": {
    "name": "ipython",
    "version": 3
   },
   "file_extension": ".py",
   "mimetype": "text/x-python",
   "name": "python",
   "nbconvert_exporter": "python",
   "pygments_lexer": "ipython3",
   "version": "3.4.3"
  }
 },
 "nbformat": 4,
 "nbformat_minor": 2
}
